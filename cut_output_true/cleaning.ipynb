{
 "cells": [
  {
   "cell_type": "code",
   "execution_count": 37,
   "id": "a1520c05",
   "metadata": {},
   "outputs": [],
   "source": [
    "import pandas as pd\n",
    "import numpy as np  \n",
    "for i in range(10, 18):\n",
    "\n",
    "    file_name = f'mapped_argo_details_20{i}_sorted.csv'\n",
    "    df = pd.read_csv(f\"{file_name}\")\n",
    "    df = df.drop(columns=[\"ad_observation_id\", \"ao_observation_id\"])\n",
    "    if \"date\" in df.columns:\n",
    "        cols = [\"date\"] + [c for c in df.columns if c != \"date\"]\n",
    "        df = df[cols]\n",
    "    df.to_csv(f\"../ingestion_files_for_rag/{file_name}\", index=False)"
   ]
  }
 ],
 "metadata": {
  "kernelspec": {
   "display_name": "Python 3",
   "language": "python",
   "name": "python3"
  },
  "language_info": {
   "codemirror_mode": {
    "name": "ipython",
    "version": 3
   },
   "file_extension": ".py",
   "mimetype": "text/x-python",
   "name": "python",
   "nbconvert_exporter": "python",
   "pygments_lexer": "ipython3",
   "version": "3.11.9"
  }
 },
 "nbformat": 4,
 "nbformat_minor": 5
}
